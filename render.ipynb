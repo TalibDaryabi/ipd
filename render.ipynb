{
 "cells": [
  {
   "cell_type": "code",
   "execution_count": null,
   "metadata": {},
   "outputs": [],
   "source": [
    "! pip install -r render.requirements.txt "
   ]
  },
  {
   "cell_type": "code",
   "execution_count": 1,
   "metadata": {},
   "outputs": [],
   "source": [
    "import pyrender\n",
    "import trimesh\n",
    "import json\n",
    "import os\n",
    "import matplotlib.pyplot as plt\n",
    "import numpy as np\n",
    "import cv2"
   ]
  },
  {
   "cell_type": "markdown",
   "metadata": {},
   "source": [
    "# 1 Setup"
   ]
  },
  {
   "cell_type": "markdown",
   "metadata": {},
   "source": [
    "## 1.1 Utils"
   ]
  },
  {
   "cell_type": "code",
   "execution_count": 3,
   "metadata": {},
   "outputs": [],
   "source": [
    "# Used to convert from OpenCV (our cameras) to OpenGL (pyrrender)\n",
    "\n",
    "def flip_rotation_axes(rotation_matrix, flip_x=False, flip_y=False, flip_z=False):\n",
    "    \"\"\"\n",
    "    Flip the specified axes of a 3x3 rotation matrix.\n",
    "\n",
    "    Args:\n",
    "    rotation_matrix (np.array): The original 3x3 rotation matrix.\n",
    "    flip_x (bool): Whether to flip the X-axis.\n",
    "    flip_y (bool): Whether to flip the Y-axis.\n",
    "    flip_z (bool): Whether to flip the Z-axis.\n",
    "\n",
    "    Returns:\n",
    "    np.array: The rotation matrix after flipping the specified axes.\n",
    "    \"\"\"\n",
    "    flipped_matrix = rotation_matrix.copy()\n",
    "\n",
    "    if flip_x:\n",
    "        flipped_matrix[1:3, :] = -flipped_matrix[1:3, :]\n",
    "\n",
    "    if flip_y:\n",
    "        flipped_matrix[[0, 2], :] = -flipped_matrix[[0, 2], :]\n",
    "\n",
    "    if flip_z:\n",
    "        flipped_matrix[:, [0, 1]] = -flipped_matrix[:, [0, 1]]\n",
    "\n",
    "    return flipped_matrix\n",
    "\n",
    "def flip_translation_vector(translation_vector, flip_x=False, flip_y=False, flip_z=False):\n",
    "    \"\"\"\n",
    "    Flip the specified axes of a translation vector.\n",
    "\n",
    "    Args:\n",
    "    translation_vector (np.array): The original translation vector.\n",
    "    flip_x (bool): Whether to flip along the X-axis.\n",
    "    flip_y (bool): Whether to flip along the Y-axis.\n",
    "    flip_z (bool): Whether to flip along the Z-axis.\n",
    "\n",
    "    Returns:\n",
    "    np.array: The translation vector after flipping the specified axes.\n",
    "    \"\"\"\n",
    "    flipped_vector = translation_vector.copy()\n",
    "\n",
    "    if flip_x:\n",
    "        flipped_vector[0] = -flipped_vector[0]\n",
    "\n",
    "    if flip_y:\n",
    "        flipped_vector[1] = -flipped_vector[1]\n",
    "\n",
    "    if flip_z:\n",
    "        flipped_vector[2] = -flipped_vector[2]\n",
    "\n",
    "    return flipped_vector"
   ]
  },
  {
   "cell_type": "markdown",
   "metadata": {},
   "source": [
    "## 1.2 Get Dataset and File Paths"
   ]
  },
  {
   "cell_type": "code",
   "execution_count": 78,
   "metadata": {},
   "outputs": [],
   "source": [
    "folder = \"./datasets\" \n",
    "dataset = \"dataset_darkbg_3\" #CHANGE ME\n",
    "camera_name = \"FLIR_polar\"    #CHANGE ME {FLIR_polar, Photoneo, Basler-HR, or Basler-LR}"
   ]
  },
  {
   "cell_type": "markdown",
   "metadata": {},
   "source": [
    "#####  Python download script"
   ]
  },
  {
   "cell_type": "markdown",
   "metadata": {},
   "source": [
    "```bash\n",
    "./scripts/dataset/get_dataset.py\n",
    "\n",
    "options:\n",
    "  -h, --help            show this help message and exit\n",
    "  --camera {ALL, FLIR_polar, Photoneo, Basler-HR, Basler-LR}\n",
    "                        Supply a camera id or or 'ALL' to download all cameras for the specified dataset\n",
    "  --id {ALL, dataset_basket_0, dataset_basket_1,..., dataset_texturedbg_3}\n",
    "                        Supply a dataset id or 'ALL' to download all datasets for specified camera\n",
    "  --folder FOLDER       Folder to download/extract the datasets to\n",
    "  --extract             Flag to extract the downloaded dataset(s)\n",
    "```"
   ]
  },
  {
   "cell_type": "code",
   "execution_count": 79,
   "metadata": {},
   "outputs": [
    {
     "name": "stdout",
     "output_type": "stream",
     "text": [
      "Requirement already satisfied: tqdm in /home/carynt/.local/lib/python3.9/site-packages (from -r ./scripts/dataset/get_dataset.requirements.txt (line 1)) (4.66.4)\n",
      "Downloading datasets to ./datasets\n",
      "FLIR_polar-dataset_darkbg_3.zip: 3.65GB [00:36, 100MB/s]                        \n",
      "Extracting ./datasets/FLIR_polar-dataset_darkbg_3.zip...\n",
      "100%|██████████████████████████████████████| 3333/3333 [00:15<00:00, 218.74it/s]\n",
      "Extracted ./datasets/FLIR_polar-dataset_darkbg_3.zip to ./datasets\n",
      "Downloading cad models to ./datasets/models\n",
      "./datasets/models/corner_bracket.stl already exists\n",
      "./datasets/models/corner_bracket0.stl already exists\n",
      "./datasets/models/corner_bracket1.stl already exists\n",
      "./datasets/models/corner_bracket2.stl already exists\n",
      "./datasets/models/corner_bracket3.stl already exists\n",
      "./datasets/models/corner_bracket4.stl already exists\n",
      "./datasets/models/corner_bracket6.stl already exists\n",
      "./datasets/models/gear1.stl already exists\n",
      "./datasets/models/gear2.stl already exists\n",
      "./datasets/models/handrail_bracket.stl already exists\n",
      "./datasets/models/hex_manifold.stl already exists\n",
      "./datasets/models/l_bracket.stl already exists\n",
      "./datasets/models/oblong_float.stl already exists\n",
      "./datasets/models/pegboard_basket.stl already exists\n",
      "./datasets/models/pipe_fitting_unthreaded.stl already exists\n",
      "./datasets/models/single_pinch_clamp.stl already exists\n",
      "./datasets/models/square_bracket.stl already exists\n",
      "./datasets/models/t_bracket.stl already exists\n",
      "./datasets/models/u_bolt.stl already exists\n",
      "./datasets/models/wraparound_bracket.stl already exists\n"
     ]
    }
   ],
   "source": [
    "! pip install -r ./scripts/dataset/get_dataset.requirements.txt\n",
    "! python ./scripts/dataset/get_dataset.py --id {dataset} --camera {camera_name} --extract"
   ]
  },
  {
   "cell_type": "markdown",
   "metadata": {},
   "source": [
    "#####  __Alternative__ bash download script (can only download & extract one dataset at a time)"
   ]
  },
  {
   "cell_type": "code",
   "execution_count": null,
   "metadata": {},
   "outputs": [],
   "source": [
    "# ! ./scripts/dataset/get_dataset.sh {dataset} {camera_name} {folder}"
   ]
  },
  {
   "cell_type": "markdown",
   "metadata": {},
   "source": [
    "#### Get file paths"
   ]
  },
  {
   "cell_type": "code",
   "execution_count": 80,
   "metadata": {},
   "outputs": [],
   "source": [
    "SCENE_INDEX = 0 #CHANGE ME\n",
    "CAMERA_INDEX = 0 #CHANGE ME\n",
    "\n",
    "scenes = sorted([f.path for f in os.scandir(os.path.join(folder, dataset, \"test\")) if f.is_dir()], key=lambda x: int(os.path.basename(x)))\n",
    "scene = scenes[SCENE_INDEX]\n",
    "\n",
    "cameras = sorted([f.path for f in os.scandir(scene) if f.is_dir()], key=lambda x: int(os.path.basename(x)))\n",
    "camera = cameras[CAMERA_INDEX]"
   ]
  },
  {
   "cell_type": "markdown",
   "metadata": {},
   "source": [
    "# 2 Rendering"
   ]
  },
  {
   "cell_type": "code",
   "execution_count": 81,
   "metadata": {},
   "outputs": [],
   "source": [
    "#create scene with transparent background\n",
    "scene = pyrender.Scene(bg_color=[0, 0, 0, 0])"
   ]
  },
  {
   "cell_type": "markdown",
   "metadata": {},
   "source": [
    "## 2.1 Load the objects and their poses"
   ]
  },
  {
   "cell_type": "code",
   "execution_count": 82,
   "metadata": {},
   "outputs": [
    {
     "name": "stdout",
     "output_type": "stream",
     "text": [
      "Added corner_bracket0\n",
      "Added corner_bracket0\n",
      "Added corner_bracket0\n",
      "Added corner_bracket0\n",
      "Added l_bracket\n",
      "Added l_bracket\n",
      "Added l_bracket\n",
      "Added l_bracket\n"
     ]
    }
   ],
   "source": [
    "obj_pose_json = os.path.join(camera, \"scene_gt.json\")\n",
    "with open(obj_pose_json) as f:\n",
    "    obj_poses = json.load(f)['0']\n",
    "\n",
    "\n",
    "for obj_pose in obj_poses:\n",
    "    part = obj_pose['obj_name']\n",
    "    r = np.array(obj_pose['cam_R_m2w']).reshape((3, 3))\n",
    "    t = np.array(obj_pose['cam_t_m2w']) \n",
    "    T_m2c = np.eye(4)  \n",
    "    T_m2c[:3, :3] = r\n",
    "    T_m2c[:3, 3] = t\n",
    "\n",
    "    # Load the obj mesh if exists\n",
    "    cad_file = os.path.join(folder, \"models\", f\"{part}.stl\")\n",
    "    if not os.path.exists(cad_file):\n",
    "        print(f\"Error: CAD file not found: {part}, {cad_file}\")\n",
    "        continue  # Skip to the next pose if the model file doesn't exist\n",
    "\n",
    "    part_trimesh = trimesh.load(cad_file)\n",
    "    mesh = pyrender.Mesh.from_trimesh(part_trimesh)\n",
    "\n",
    "    scene.add(mesh, pose=T_m2c)\n",
    "    print(f\"Added {part}\")"
   ]
  },
  {
   "cell_type": "markdown",
   "metadata": {},
   "source": [
    "## 2.2 Create camera "
   ]
  },
  {
   "cell_type": "code",
   "execution_count": 83,
   "metadata": {},
   "outputs": [
    {
     "data": {
      "text/plain": [
       "<pyrender.node.Node at 0x7f113b4e2b50>"
      ]
     },
     "execution_count": 83,
     "metadata": {},
     "output_type": "execute_result"
    }
   ],
   "source": [
    "# load camera parameters (intrinsics) and create camera\n",
    "camera_json = os.path.join(camera, \"scene_camera.json\")\n",
    "with open(camera_json) as f:\n",
    "    camera_params = json.load(f)['0']\n",
    "intrinsics = camera_params['cam_K']\n",
    "K = np.array(intrinsics).reshape((3, 3)) \n",
    "icamera = pyrender.IntrinsicsCamera(fx=K[0][0], fy=K[1][1], cx=K[0][2], cy=K[1][2], zfar=10000)\n",
    "\n",
    "# Setting up camera pose (extrinsics), convert from OpenCV to OpenGL \n",
    "T_c2w = np.eye(4) \n",
    "T_c2w[:3, :3] = flip_rotation_axes(np.eye(3) , flip_z=True, flip_y=True) \n",
    "\n",
    "# Add camera to scene\n",
    "scene.add(icamera, pose=T_c2w)"
   ]
  },
  {
   "cell_type": "markdown",
   "metadata": {},
   "source": [
    "## 2.3 Render"
   ]
  },
  {
   "cell_type": "markdown",
   "metadata": {},
   "source": [
    "##### Read Image file"
   ]
  },
  {
   "cell_type": "code",
   "execution_count": 84,
   "metadata": {},
   "outputs": [
    {
     "data": {
      "text/plain": [
       "(2048, 2448, 3)"
      ]
     },
     "execution_count": 84,
     "metadata": {},
     "output_type": "execute_result"
    }
   ],
   "source": [
    "image_file = os.path.join(camera, \"rgb\", \"0_200000.png\") \n",
    "if not os.path.exists(image_file):\n",
    "    image_file = os.path.join(camera, \"rgb\", \"000000.png\") \n",
    "im = cv2.imread(image_file)\n",
    "im.shape"
   ]
  },
  {
   "cell_type": "markdown",
   "metadata": {},
   "source": [
    "#### Off-Screen Rendering\n",
    "See docs at https://pyrender.readthedocs.io/en/latest/examples/offscreen.html"
   ]
  },
  {
   "cell_type": "code",
   "execution_count": 85,
   "metadata": {},
   "outputs": [
    {
     "data": {
      "text/plain": [
       "(2048, 2448, 4)"
      ]
     },
     "execution_count": 85,
     "metadata": {},
     "output_type": "execute_result"
    }
   ],
   "source": [
    "os.environ['PYOPENGL_PLATFORM'] = 'egl'\n",
    "r = pyrender.OffscreenRenderer(im.shape[1], im.shape[0])\n",
    "color, depth = r.render(scene, flags=pyrender.constants.RenderFlags.RGBA)\n",
    "color.shape"
   ]
  },
  {
   "cell_type": "markdown",
   "metadata": {},
   "source": [
    "## 2.4 Display"
   ]
  },
  {
   "cell_type": "markdown",
   "metadata": {},
   "source": [
    "### Plot inline"
   ]
  },
  {
   "cell_type": "code",
   "execution_count": null,
   "metadata": {},
   "outputs": [],
   "source": [
    "\n",
    "%matplotlib inline\n",
    "\n",
    "fig = plt.figure(figsize=(10, 5))\n",
    "plt.axis('off')\n",
    "plt.imshow(im, alpha=.8)\n",
    "plt.imshow(color, alpha=1)"
   ]
  },
  {
   "cell_type": "markdown",
   "metadata": {},
   "source": [
    "### Save plot"
   ]
  },
  {
   "cell_type": "code",
   "execution_count": 88,
   "metadata": {},
   "outputs": [
    {
     "name": "stdout",
     "output_type": "stream",
     "text": [
      "Image saved to './image_dataset_darkbg_3_FLIR_polar.png'\n"
     ]
    }
   ],
   "source": [
    "%matplotlib agg\n",
    "\n",
    "fig = plt.figure(figsize=(10, 5))\n",
    "plt.axis('off')\n",
    "plt.imshow(im, alpha=1)\n",
    "plt.imshow(color, alpha=1)\n",
    "plt.savefig(f'image_{dataset}_{camera_name}.png', bbox_inches='tight')\n",
    "print(f\"Image saved to './image_{dataset}_{camera_name}.png'\")"
   ]
  },
  {
   "cell_type": "code",
   "execution_count": null,
   "metadata": {},
   "outputs": [],
   "source": []
  }
 ],
 "metadata": {
  "kernelspec": {
   "display_name": "Python 3",
   "language": "python",
   "name": "python3"
  },
  "language_info": {
   "codemirror_mode": {
    "name": "ipython",
    "version": 3
   },
   "file_extension": ".py",
   "mimetype": "text/x-python",
   "name": "python",
   "nbconvert_exporter": "python",
   "pygments_lexer": "ipython3",
   "version": "3.9.2"
  }
 },
 "nbformat": 4,
 "nbformat_minor": 2
}
